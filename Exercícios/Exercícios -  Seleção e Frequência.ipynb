{
 "cells": [
  {
   "cell_type": "code",
   "execution_count": 38,
   "id": "79ef05b8-644d-44c0-a67b-ffbfe2ee5e5b",
   "metadata": {},
   "outputs": [],
   "source": [
    "## Estudos de Imóveis\n",
    "import pandas as pd"
   ]
  },
  {
   "cell_type": "markdown",
   "id": "a179926d-f6f9-4bcc-b064-0e69b2b7b22d",
   "metadata": {},
   "source": [
    "## 1. Selecione somente os imóveis classificados com tipo \"Apartamento\""
   ]
  },
  {
   "cell_type": "code",
   "execution_count": 132,
   "id": "7ef3b95a-e771-48b4-a81b-e3370d677194",
   "metadata": {},
   "outputs": [
    {
     "data": {
      "text/html": [
       "<div>\n",
       "<style scoped>\n",
       "    .dataframe tbody tr th:only-of-type {\n",
       "        vertical-align: middle;\n",
       "    }\n",
       "\n",
       "    .dataframe tbody tr th {\n",
       "        vertical-align: top;\n",
       "    }\n",
       "\n",
       "    .dataframe thead th {\n",
       "        text-align: right;\n",
       "    }\n",
       "</style>\n",
       "<table border=\"1\" class=\"dataframe\">\n",
       "  <thead>\n",
       "    <tr style=\"text-align: right;\">\n",
       "      <th></th>\n",
       "      <th>Tipo</th>\n",
       "      <th>Bairro</th>\n",
       "      <th>Quartos</th>\n",
       "      <th>Vagas</th>\n",
       "      <th>Suites</th>\n",
       "      <th>Area</th>\n",
       "      <th>Valor</th>\n",
       "      <th>Condominio</th>\n",
       "      <th>IPTU</th>\n",
       "    </tr>\n",
       "  </thead>\n",
       "  <tbody>\n",
       "    <tr>\n",
       "      <th>0</th>\n",
       "      <td>Quitinete</td>\n",
       "      <td>Copacabana</td>\n",
       "      <td>1</td>\n",
       "      <td>0</td>\n",
       "      <td>0</td>\n",
       "      <td>40</td>\n",
       "      <td>1700.0</td>\n",
       "      <td>500.0</td>\n",
       "      <td>60.0</td>\n",
       "    </tr>\n",
       "    <tr>\n",
       "      <th>1</th>\n",
       "      <td>Casa</td>\n",
       "      <td>Jardim Botânico</td>\n",
       "      <td>2</td>\n",
       "      <td>0</td>\n",
       "      <td>1</td>\n",
       "      <td>100</td>\n",
       "      <td>7000.0</td>\n",
       "      <td>NaN</td>\n",
       "      <td>NaN</td>\n",
       "    </tr>\n",
       "    <tr>\n",
       "      <th>2</th>\n",
       "      <td>Apartamento</td>\n",
       "      <td>Centro</td>\n",
       "      <td>1</td>\n",
       "      <td>0</td>\n",
       "      <td>0</td>\n",
       "      <td>15</td>\n",
       "      <td>800.0</td>\n",
       "      <td>390.0</td>\n",
       "      <td>20.0</td>\n",
       "    </tr>\n",
       "    <tr>\n",
       "      <th>3</th>\n",
       "      <td>Apartamento</td>\n",
       "      <td>Higienópolis</td>\n",
       "      <td>1</td>\n",
       "      <td>0</td>\n",
       "      <td>0</td>\n",
       "      <td>48</td>\n",
       "      <td>800.0</td>\n",
       "      <td>230.0</td>\n",
       "      <td>NaN</td>\n",
       "    </tr>\n",
       "    <tr>\n",
       "      <th>4</th>\n",
       "      <td>Apartamento</td>\n",
       "      <td>Vista Alegre</td>\n",
       "      <td>3</td>\n",
       "      <td>1</td>\n",
       "      <td>0</td>\n",
       "      <td>70</td>\n",
       "      <td>1200.0</td>\n",
       "      <td>NaN</td>\n",
       "      <td>NaN</td>\n",
       "    </tr>\n",
       "    <tr>\n",
       "      <th>...</th>\n",
       "      <td>...</td>\n",
       "      <td>...</td>\n",
       "      <td>...</td>\n",
       "      <td>...</td>\n",
       "      <td>...</td>\n",
       "      <td>...</td>\n",
       "      <td>...</td>\n",
       "      <td>...</td>\n",
       "      <td>...</td>\n",
       "    </tr>\n",
       "    <tr>\n",
       "      <th>22575</th>\n",
       "      <td>Apartamento</td>\n",
       "      <td>Méier</td>\n",
       "      <td>2</td>\n",
       "      <td>0</td>\n",
       "      <td>0</td>\n",
       "      <td>70</td>\n",
       "      <td>900.0</td>\n",
       "      <td>490.0</td>\n",
       "      <td>48.0</td>\n",
       "    </tr>\n",
       "    <tr>\n",
       "      <th>22576</th>\n",
       "      <td>Quitinete</td>\n",
       "      <td>Centro</td>\n",
       "      <td>0</td>\n",
       "      <td>0</td>\n",
       "      <td>0</td>\n",
       "      <td>27</td>\n",
       "      <td>800.0</td>\n",
       "      <td>350.0</td>\n",
       "      <td>25.0</td>\n",
       "    </tr>\n",
       "    <tr>\n",
       "      <th>22577</th>\n",
       "      <td>Apartamento</td>\n",
       "      <td>Jacarepaguá</td>\n",
       "      <td>3</td>\n",
       "      <td>1</td>\n",
       "      <td>2</td>\n",
       "      <td>78</td>\n",
       "      <td>1800.0</td>\n",
       "      <td>800.0</td>\n",
       "      <td>40.0</td>\n",
       "    </tr>\n",
       "    <tr>\n",
       "      <th>22578</th>\n",
       "      <td>Apartamento</td>\n",
       "      <td>São Francisco Xavier</td>\n",
       "      <td>2</td>\n",
       "      <td>1</td>\n",
       "      <td>0</td>\n",
       "      <td>48</td>\n",
       "      <td>1400.0</td>\n",
       "      <td>509.0</td>\n",
       "      <td>37.0</td>\n",
       "    </tr>\n",
       "    <tr>\n",
       "      <th>22579</th>\n",
       "      <td>Apartamento</td>\n",
       "      <td>Leblon</td>\n",
       "      <td>2</td>\n",
       "      <td>0</td>\n",
       "      <td>0</td>\n",
       "      <td>70</td>\n",
       "      <td>3000.0</td>\n",
       "      <td>760.0</td>\n",
       "      <td>NaN</td>\n",
       "    </tr>\n",
       "  </tbody>\n",
       "</table>\n",
       "<p>22580 rows × 9 columns</p>\n",
       "</div>"
      ],
      "text/plain": [
       "              Tipo                Bairro  Quartos  Vagas  Suites  Area  \\\n",
       "0        Quitinete            Copacabana        1      0       0    40   \n",
       "1             Casa       Jardim Botânico        2      0       1   100   \n",
       "2      Apartamento                Centro        1      0       0    15   \n",
       "3      Apartamento          Higienópolis        1      0       0    48   \n",
       "4      Apartamento          Vista Alegre        3      1       0    70   \n",
       "...            ...                   ...      ...    ...     ...   ...   \n",
       "22575  Apartamento                 Méier        2      0       0    70   \n",
       "22576    Quitinete                Centro        0      0       0    27   \n",
       "22577  Apartamento           Jacarepaguá        3      1       2    78   \n",
       "22578  Apartamento  São Francisco Xavier        2      1       0    48   \n",
       "22579  Apartamento                Leblon        2      0       0    70   \n",
       "\n",
       "        Valor  Condominio  IPTU  \n",
       "0      1700.0       500.0  60.0  \n",
       "1      7000.0         NaN   NaN  \n",
       "2       800.0       390.0  20.0  \n",
       "3       800.0       230.0   NaN  \n",
       "4      1200.0         NaN   NaN  \n",
       "...       ...         ...   ...  \n",
       "22575   900.0       490.0  48.0  \n",
       "22576   800.0       350.0  25.0  \n",
       "22577  1800.0       800.0  40.0  \n",
       "22578  1400.0       509.0  37.0  \n",
       "22579  3000.0       760.0   NaN  \n",
       "\n",
       "[22580 rows x 9 columns]"
      ]
     },
     "execution_count": 132,
     "metadata": {},
     "output_type": "execute_result"
    }
   ],
   "source": [
    "dados = pd.read_csv(\"dados_residencial.csv\", sep =\";\")\n",
    "dados"
   ]
  },
  {
   "cell_type": "code",
   "execution_count": 133,
   "id": "bb87819a-1366-44b3-a7ca-82592ce1c7db",
   "metadata": {},
   "outputs": [],
   "source": [
    "tipo_imovel_apartamento = [\"Apartamento\"]"
   ]
  },
  {
   "cell_type": "code",
   "execution_count": 134,
   "id": "a1438bea-f7fe-430f-9b2f-db4349fc4620",
   "metadata": {},
   "outputs": [
    {
     "data": {
      "text/plain": [
       "['Apartamento']"
      ]
     },
     "execution_count": 134,
     "metadata": {},
     "output_type": "execute_result"
    }
   ],
   "source": [
    "tipo_imovel_apartamento"
   ]
  },
  {
   "cell_type": "code",
   "execution_count": 135,
   "id": "09c6df03-7e49-40d8-ada8-5548cc4b8f7c",
   "metadata": {},
   "outputs": [],
   "source": [
    "filtro = dados[\"Tipo\"].isin(tipo_imovel_apartamento)"
   ]
  },
  {
   "cell_type": "code",
   "execution_count": 136,
   "id": "8acf0016-8199-42c3-a725-ec2a694d2516",
   "metadata": {},
   "outputs": [
    {
     "data": {
      "text/plain": [
       "0        False\n",
       "1        False\n",
       "2         True\n",
       "3         True\n",
       "4         True\n",
       "         ...  \n",
       "22575     True\n",
       "22576    False\n",
       "22577     True\n",
       "22578     True\n",
       "22579     True\n",
       "Name: Tipo, Length: 22580, dtype: bool"
      ]
     },
     "execution_count": 136,
     "metadata": {},
     "output_type": "execute_result"
    }
   ],
   "source": [
    "filtro"
   ]
  },
  {
   "cell_type": "code",
   "execution_count": 137,
   "id": "83718173-bddf-4656-a38f-883a6ee2047f",
   "metadata": {},
   "outputs": [],
   "source": [
    "imoveis_tipo_apartamento = dados[filtro]"
   ]
  },
  {
   "cell_type": "code",
   "execution_count": 138,
   "id": "bc94dadf-87d8-4b61-89fc-601552487b61",
   "metadata": {},
   "outputs": [
    {
     "data": {
      "text/html": [
       "<div>\n",
       "<style scoped>\n",
       "    .dataframe tbody tr th:only-of-type {\n",
       "        vertical-align: middle;\n",
       "    }\n",
       "\n",
       "    .dataframe tbody tr th {\n",
       "        vertical-align: top;\n",
       "    }\n",
       "\n",
       "    .dataframe thead th {\n",
       "        text-align: right;\n",
       "    }\n",
       "</style>\n",
       "<table border=\"1\" class=\"dataframe\">\n",
       "  <thead>\n",
       "    <tr style=\"text-align: right;\">\n",
       "      <th></th>\n",
       "      <th>Tipo</th>\n",
       "      <th>Bairro</th>\n",
       "      <th>Quartos</th>\n",
       "      <th>Vagas</th>\n",
       "      <th>Suites</th>\n",
       "      <th>Area</th>\n",
       "      <th>Valor</th>\n",
       "      <th>Condominio</th>\n",
       "      <th>IPTU</th>\n",
       "    </tr>\n",
       "  </thead>\n",
       "  <tbody>\n",
       "    <tr>\n",
       "      <th>2</th>\n",
       "      <td>Apartamento</td>\n",
       "      <td>Centro</td>\n",
       "      <td>1</td>\n",
       "      <td>0</td>\n",
       "      <td>0</td>\n",
       "      <td>15</td>\n",
       "      <td>800.0</td>\n",
       "      <td>390.0</td>\n",
       "      <td>20.0</td>\n",
       "    </tr>\n",
       "    <tr>\n",
       "      <th>3</th>\n",
       "      <td>Apartamento</td>\n",
       "      <td>Higienópolis</td>\n",
       "      <td>1</td>\n",
       "      <td>0</td>\n",
       "      <td>0</td>\n",
       "      <td>48</td>\n",
       "      <td>800.0</td>\n",
       "      <td>230.0</td>\n",
       "      <td>NaN</td>\n",
       "    </tr>\n",
       "    <tr>\n",
       "      <th>4</th>\n",
       "      <td>Apartamento</td>\n",
       "      <td>Vista Alegre</td>\n",
       "      <td>3</td>\n",
       "      <td>1</td>\n",
       "      <td>0</td>\n",
       "      <td>70</td>\n",
       "      <td>1200.0</td>\n",
       "      <td>NaN</td>\n",
       "      <td>NaN</td>\n",
       "    </tr>\n",
       "    <tr>\n",
       "      <th>5</th>\n",
       "      <td>Apartamento</td>\n",
       "      <td>Cachambi</td>\n",
       "      <td>2</td>\n",
       "      <td>0</td>\n",
       "      <td>0</td>\n",
       "      <td>50</td>\n",
       "      <td>1300.0</td>\n",
       "      <td>301.0</td>\n",
       "      <td>17.0</td>\n",
       "    </tr>\n",
       "    <tr>\n",
       "      <th>8</th>\n",
       "      <td>Apartamento</td>\n",
       "      <td>Centro</td>\n",
       "      <td>1</td>\n",
       "      <td>0</td>\n",
       "      <td>0</td>\n",
       "      <td>36</td>\n",
       "      <td>1200.0</td>\n",
       "      <td>NaN</td>\n",
       "      <td>NaN</td>\n",
       "    </tr>\n",
       "    <tr>\n",
       "      <th>...</th>\n",
       "      <td>...</td>\n",
       "      <td>...</td>\n",
       "      <td>...</td>\n",
       "      <td>...</td>\n",
       "      <td>...</td>\n",
       "      <td>...</td>\n",
       "      <td>...</td>\n",
       "      <td>...</td>\n",
       "      <td>...</td>\n",
       "    </tr>\n",
       "    <tr>\n",
       "      <th>22573</th>\n",
       "      <td>Apartamento</td>\n",
       "      <td>Vila Valqueire</td>\n",
       "      <td>2</td>\n",
       "      <td>0</td>\n",
       "      <td>0</td>\n",
       "      <td>52</td>\n",
       "      <td>1000.0</td>\n",
       "      <td>550.0</td>\n",
       "      <td>NaN</td>\n",
       "    </tr>\n",
       "    <tr>\n",
       "      <th>22575</th>\n",
       "      <td>Apartamento</td>\n",
       "      <td>Méier</td>\n",
       "      <td>2</td>\n",
       "      <td>0</td>\n",
       "      <td>0</td>\n",
       "      <td>70</td>\n",
       "      <td>900.0</td>\n",
       "      <td>490.0</td>\n",
       "      <td>48.0</td>\n",
       "    </tr>\n",
       "    <tr>\n",
       "      <th>22577</th>\n",
       "      <td>Apartamento</td>\n",
       "      <td>Jacarepaguá</td>\n",
       "      <td>3</td>\n",
       "      <td>1</td>\n",
       "      <td>2</td>\n",
       "      <td>78</td>\n",
       "      <td>1800.0</td>\n",
       "      <td>800.0</td>\n",
       "      <td>40.0</td>\n",
       "    </tr>\n",
       "    <tr>\n",
       "      <th>22578</th>\n",
       "      <td>Apartamento</td>\n",
       "      <td>São Francisco Xavier</td>\n",
       "      <td>2</td>\n",
       "      <td>1</td>\n",
       "      <td>0</td>\n",
       "      <td>48</td>\n",
       "      <td>1400.0</td>\n",
       "      <td>509.0</td>\n",
       "      <td>37.0</td>\n",
       "    </tr>\n",
       "    <tr>\n",
       "      <th>22579</th>\n",
       "      <td>Apartamento</td>\n",
       "      <td>Leblon</td>\n",
       "      <td>2</td>\n",
       "      <td>0</td>\n",
       "      <td>0</td>\n",
       "      <td>70</td>\n",
       "      <td>3000.0</td>\n",
       "      <td>760.0</td>\n",
       "      <td>NaN</td>\n",
       "    </tr>\n",
       "  </tbody>\n",
       "</table>\n",
       "<p>19532 rows × 9 columns</p>\n",
       "</div>"
      ],
      "text/plain": [
       "              Tipo                Bairro  Quartos  Vagas  Suites  Area  \\\n",
       "2      Apartamento                Centro        1      0       0    15   \n",
       "3      Apartamento          Higienópolis        1      0       0    48   \n",
       "4      Apartamento          Vista Alegre        3      1       0    70   \n",
       "5      Apartamento              Cachambi        2      0       0    50   \n",
       "8      Apartamento                Centro        1      0       0    36   \n",
       "...            ...                   ...      ...    ...     ...   ...   \n",
       "22573  Apartamento        Vila Valqueire        2      0       0    52   \n",
       "22575  Apartamento                 Méier        2      0       0    70   \n",
       "22577  Apartamento           Jacarepaguá        3      1       2    78   \n",
       "22578  Apartamento  São Francisco Xavier        2      1       0    48   \n",
       "22579  Apartamento                Leblon        2      0       0    70   \n",
       "\n",
       "        Valor  Condominio  IPTU  \n",
       "2       800.0       390.0  20.0  \n",
       "3       800.0       230.0   NaN  \n",
       "4      1200.0         NaN   NaN  \n",
       "5      1300.0       301.0  17.0  \n",
       "8      1200.0         NaN   NaN  \n",
       "...       ...         ...   ...  \n",
       "22573  1000.0       550.0   NaN  \n",
       "22575   900.0       490.0  48.0  \n",
       "22577  1800.0       800.0  40.0  \n",
       "22578  1400.0       509.0  37.0  \n",
       "22579  3000.0       760.0   NaN  \n",
       "\n",
       "[19532 rows x 9 columns]"
      ]
     },
     "execution_count": 138,
     "metadata": {},
     "output_type": "execute_result"
    }
   ],
   "source": [
    "imoveis_tipo_apartamento"
   ]
  },
  {
   "cell_type": "code",
   "execution_count": 139,
   "id": "515fd26f-73e4-40a4-8bf8-de80234a658e",
   "metadata": {},
   "outputs": [
    {
     "data": {
      "text/plain": [
       "19532"
      ]
     },
     "execution_count": 139,
     "metadata": {},
     "output_type": "execute_result"
    }
   ],
   "source": [
    "imoveis_tipo_apartamento.shape[0]"
   ]
  },
  {
   "cell_type": "markdown",
   "id": "e3600fc2-bd63-4542-9267-022afe65e1a7",
   "metadata": {},
   "source": [
    "## 2. Selecione os imóveis classificados com tipo \"Casa\", \"Casa de Condomínio\" e \"Casa de Vila\""
   ]
  },
  {
   "cell_type": "code",
   "execution_count": 140,
   "id": "93be3e75-b3c1-4724-b5e9-55325fd0abd5",
   "metadata": {},
   "outputs": [
    {
     "data": {
      "text/plain": [
       "0          Quitinete\n",
       "1               Casa\n",
       "2        Apartamento\n",
       "3        Apartamento\n",
       "4        Apartamento\n",
       "            ...     \n",
       "22575    Apartamento\n",
       "22576      Quitinete\n",
       "22577    Apartamento\n",
       "22578    Apartamento\n",
       "22579    Apartamento\n",
       "Name: Tipo, Length: 22580, dtype: object"
      ]
     },
     "execution_count": 140,
     "metadata": {},
     "output_type": "execute_result"
    }
   ],
   "source": [
    "tipos = dados[\"Tipo\"]\n",
    "tipos"
   ]
  },
  {
   "cell_type": "code",
   "execution_count": 141,
   "id": "c63bc6dd-dbeb-456b-8f62-85bf35fa8ddc",
   "metadata": {},
   "outputs": [
    {
     "data": {
      "text/plain": [
       "0              Quitinete\n",
       "1                   Casa\n",
       "2            Apartamento\n",
       "6     Casa de Condomínio\n",
       "85          Casa de Vila\n",
       "Name: Tipo, dtype: object"
      ]
     },
     "execution_count": 141,
     "metadata": {},
     "output_type": "execute_result"
    }
   ],
   "source": [
    "tipos = tipos.drop_duplicates()\n",
    "tipos"
   ]
  },
  {
   "cell_type": "code",
   "execution_count": 142,
   "id": "d030164d-7dda-420b-a5b4-5e596f830f78",
   "metadata": {},
   "outputs": [],
   "source": [
    "tipo_imovel_casas = [\"Casa\", \"Casa de Condomínio\", \"Casa de Vila\"] "
   ]
  },
  {
   "cell_type": "code",
   "execution_count": 143,
   "id": "2a8f312f-c826-45b0-bf9b-5eb77ad527fb",
   "metadata": {},
   "outputs": [
    {
     "data": {
      "text/plain": [
       "['Casa', 'Casa de Condomínio', 'Casa de Vila']"
      ]
     },
     "execution_count": 143,
     "metadata": {},
     "output_type": "execute_result"
    }
   ],
   "source": [
    "tipo_imovel_casas"
   ]
  },
  {
   "cell_type": "code",
   "execution_count": 144,
   "id": "cf62ce0b-cb2d-4e87-87e1-9e740d07bb3d",
   "metadata": {},
   "outputs": [],
   "source": [
    "filtro = dados[\"Tipo\"].isin(tipo_imovel_casas)"
   ]
  },
  {
   "cell_type": "code",
   "execution_count": 145,
   "id": "973fb5cc-3d65-4cd7-a852-433c337c5b87",
   "metadata": {},
   "outputs": [
    {
     "data": {
      "text/plain": [
       "0        False\n",
       "1         True\n",
       "2        False\n",
       "3        False\n",
       "4        False\n",
       "         ...  \n",
       "22575    False\n",
       "22576    False\n",
       "22577    False\n",
       "22578    False\n",
       "22579    False\n",
       "Name: Tipo, Length: 22580, dtype: bool"
      ]
     },
     "execution_count": 145,
     "metadata": {},
     "output_type": "execute_result"
    }
   ],
   "source": [
    "filtro"
   ]
  },
  {
   "cell_type": "code",
   "execution_count": 146,
   "id": "ee8c70e4-f3d1-40f1-a22b-8c2d4fe3fcd2",
   "metadata": {},
   "outputs": [],
   "source": [
    "imoveis_tipo_casas = dados[filtro]"
   ]
  },
  {
   "cell_type": "code",
   "execution_count": 147,
   "id": "0a75033d-32df-42ed-a848-6485dca274fc",
   "metadata": {},
   "outputs": [
    {
     "data": {
      "text/html": [
       "<div>\n",
       "<style scoped>\n",
       "    .dataframe tbody tr th:only-of-type {\n",
       "        vertical-align: middle;\n",
       "    }\n",
       "\n",
       "    .dataframe tbody tr th {\n",
       "        vertical-align: top;\n",
       "    }\n",
       "\n",
       "    .dataframe thead th {\n",
       "        text-align: right;\n",
       "    }\n",
       "</style>\n",
       "<table border=\"1\" class=\"dataframe\">\n",
       "  <thead>\n",
       "    <tr style=\"text-align: right;\">\n",
       "      <th></th>\n",
       "      <th>Tipo</th>\n",
       "      <th>Bairro</th>\n",
       "      <th>Quartos</th>\n",
       "      <th>Vagas</th>\n",
       "      <th>Suites</th>\n",
       "      <th>Area</th>\n",
       "      <th>Valor</th>\n",
       "      <th>Condominio</th>\n",
       "      <th>IPTU</th>\n",
       "    </tr>\n",
       "  </thead>\n",
       "  <tbody>\n",
       "    <tr>\n",
       "      <th>1</th>\n",
       "      <td>Casa</td>\n",
       "      <td>Jardim Botânico</td>\n",
       "      <td>2</td>\n",
       "      <td>0</td>\n",
       "      <td>1</td>\n",
       "      <td>100</td>\n",
       "      <td>7000.0</td>\n",
       "      <td>NaN</td>\n",
       "      <td>NaN</td>\n",
       "    </tr>\n",
       "    <tr>\n",
       "      <th>6</th>\n",
       "      <td>Casa de Condomínio</td>\n",
       "      <td>Barra da Tijuca</td>\n",
       "      <td>5</td>\n",
       "      <td>4</td>\n",
       "      <td>5</td>\n",
       "      <td>750</td>\n",
       "      <td>22000.0</td>\n",
       "      <td>NaN</td>\n",
       "      <td>NaN</td>\n",
       "    </tr>\n",
       "    <tr>\n",
       "      <th>7</th>\n",
       "      <td>Casa de Condomínio</td>\n",
       "      <td>Ramos</td>\n",
       "      <td>2</td>\n",
       "      <td>2</td>\n",
       "      <td>0</td>\n",
       "      <td>65</td>\n",
       "      <td>1000.0</td>\n",
       "      <td>NaN</td>\n",
       "      <td>NaN</td>\n",
       "    </tr>\n",
       "    <tr>\n",
       "      <th>14</th>\n",
       "      <td>Casa de Condomínio</td>\n",
       "      <td>Taquara</td>\n",
       "      <td>3</td>\n",
       "      <td>1</td>\n",
       "      <td>1</td>\n",
       "      <td>115</td>\n",
       "      <td>2000.0</td>\n",
       "      <td>NaN</td>\n",
       "      <td>NaN</td>\n",
       "    </tr>\n",
       "    <tr>\n",
       "      <th>18</th>\n",
       "      <td>Casa de Condomínio</td>\n",
       "      <td>Barra da Tijuca</td>\n",
       "      <td>4</td>\n",
       "      <td>3</td>\n",
       "      <td>2</td>\n",
       "      <td>466</td>\n",
       "      <td>7500.0</td>\n",
       "      <td>2695.0</td>\n",
       "      <td>NaN</td>\n",
       "    </tr>\n",
       "    <tr>\n",
       "      <th>...</th>\n",
       "      <td>...</td>\n",
       "      <td>...</td>\n",
       "      <td>...</td>\n",
       "      <td>...</td>\n",
       "      <td>...</td>\n",
       "      <td>...</td>\n",
       "      <td>...</td>\n",
       "      <td>...</td>\n",
       "      <td>...</td>\n",
       "    </tr>\n",
       "    <tr>\n",
       "      <th>22545</th>\n",
       "      <td>Casa de Condomínio</td>\n",
       "      <td>Freguesia (Jacarepaguá)</td>\n",
       "      <td>3</td>\n",
       "      <td>3</td>\n",
       "      <td>1</td>\n",
       "      <td>155</td>\n",
       "      <td>2000.0</td>\n",
       "      <td>530.0</td>\n",
       "      <td>1250.0</td>\n",
       "    </tr>\n",
       "    <tr>\n",
       "      <th>22547</th>\n",
       "      <td>Casa</td>\n",
       "      <td>Bento Ribeiro</td>\n",
       "      <td>2</td>\n",
       "      <td>1</td>\n",
       "      <td>0</td>\n",
       "      <td>60</td>\n",
       "      <td>1400.0</td>\n",
       "      <td>NaN</td>\n",
       "      <td>NaN</td>\n",
       "    </tr>\n",
       "    <tr>\n",
       "      <th>22555</th>\n",
       "      <td>Casa de Condomínio</td>\n",
       "      <td>Barra da Tijuca</td>\n",
       "      <td>3</td>\n",
       "      <td>5</td>\n",
       "      <td>3</td>\n",
       "      <td>1000</td>\n",
       "      <td>20000.0</td>\n",
       "      <td>3000.0</td>\n",
       "      <td>NaN</td>\n",
       "    </tr>\n",
       "    <tr>\n",
       "      <th>22558</th>\n",
       "      <td>Casa</td>\n",
       "      <td>Centro</td>\n",
       "      <td>5</td>\n",
       "      <td>0</td>\n",
       "      <td>1</td>\n",
       "      <td>160</td>\n",
       "      <td>5000.0</td>\n",
       "      <td>NaN</td>\n",
       "      <td>80.0</td>\n",
       "    </tr>\n",
       "    <tr>\n",
       "      <th>22574</th>\n",
       "      <td>Casa de Condomínio</td>\n",
       "      <td>Barra da Tijuca</td>\n",
       "      <td>5</td>\n",
       "      <td>3</td>\n",
       "      <td>4</td>\n",
       "      <td>450</td>\n",
       "      <td>15000.0</td>\n",
       "      <td>1711.0</td>\n",
       "      <td>2332.0</td>\n",
       "    </tr>\n",
       "  </tbody>\n",
       "</table>\n",
       "<p>2212 rows × 9 columns</p>\n",
       "</div>"
      ],
      "text/plain": [
       "                     Tipo                   Bairro  Quartos  Vagas  Suites  \\\n",
       "1                    Casa          Jardim Botânico        2      0       1   \n",
       "6      Casa de Condomínio          Barra da Tijuca        5      4       5   \n",
       "7      Casa de Condomínio                    Ramos        2      2       0   \n",
       "14     Casa de Condomínio                  Taquara        3      1       1   \n",
       "18     Casa de Condomínio          Barra da Tijuca        4      3       2   \n",
       "...                   ...                      ...      ...    ...     ...   \n",
       "22545  Casa de Condomínio  Freguesia (Jacarepaguá)        3      3       1   \n",
       "22547                Casa            Bento Ribeiro        2      1       0   \n",
       "22555  Casa de Condomínio          Barra da Tijuca        3      5       3   \n",
       "22558                Casa                   Centro        5      0       1   \n",
       "22574  Casa de Condomínio          Barra da Tijuca        5      3       4   \n",
       "\n",
       "       Area    Valor  Condominio    IPTU  \n",
       "1       100   7000.0         NaN     NaN  \n",
       "6       750  22000.0         NaN     NaN  \n",
       "7        65   1000.0         NaN     NaN  \n",
       "14      115   2000.0         NaN     NaN  \n",
       "18      466   7500.0      2695.0     NaN  \n",
       "...     ...      ...         ...     ...  \n",
       "22545   155   2000.0       530.0  1250.0  \n",
       "22547    60   1400.0         NaN     NaN  \n",
       "22555  1000  20000.0      3000.0     NaN  \n",
       "22558   160   5000.0         NaN    80.0  \n",
       "22574   450  15000.0      1711.0  2332.0  \n",
       "\n",
       "[2212 rows x 9 columns]"
      ]
     },
     "execution_count": 147,
     "metadata": {},
     "output_type": "execute_result"
    }
   ],
   "source": [
    "imoveis_tipo_casas"
   ]
  },
  {
   "cell_type": "code",
   "execution_count": 148,
   "id": "cbe4bec6-b310-4272-a109-1dfe916822da",
   "metadata": {},
   "outputs": [],
   "source": [
    "## Segunda forma de fazer:"
   ]
  },
  {
   "cell_type": "code",
   "execution_count": 149,
   "id": "06385c7d-95fb-4eb6-8a35-f4e1f817dea0",
   "metadata": {},
   "outputs": [],
   "source": [
    "selecao = (dados[\"Tipo\"] == \"Casa\") | (dados[\"Tipo\"] == \"Casa de Condomínio\") | (dados[\"Tipo\"] == \"Casa de Vila\")"
   ]
  },
  {
   "cell_type": "code",
   "execution_count": 150,
   "id": "5683ee76-f37c-4829-ad70-56b5d9d5399a",
   "metadata": {},
   "outputs": [
    {
     "data": {
      "text/plain": [
       "0        False\n",
       "1         True\n",
       "2        False\n",
       "3        False\n",
       "4        False\n",
       "         ...  \n",
       "22575    False\n",
       "22576    False\n",
       "22577    False\n",
       "22578    False\n",
       "22579    False\n",
       "Name: Tipo, Length: 22580, dtype: bool"
      ]
     },
     "execution_count": 150,
     "metadata": {},
     "output_type": "execute_result"
    }
   ],
   "source": [
    "selecao"
   ]
  },
  {
   "cell_type": "code",
   "execution_count": 151,
   "id": "1cfe98fc-22a6-440b-83d8-3eb1d0d8433e",
   "metadata": {},
   "outputs": [],
   "source": [
    "qtd_imoveis_tipo_casa = dados[selecao].shape[0]"
   ]
  },
  {
   "cell_type": "code",
   "execution_count": 152,
   "id": "e27b96dd-a1a2-4e11-861c-850ca26c942c",
   "metadata": {},
   "outputs": [
    {
     "data": {
      "text/plain": [
       "2212"
      ]
     },
     "execution_count": 152,
     "metadata": {},
     "output_type": "execute_result"
    }
   ],
   "source": [
    "qtd_imoveis_tipo_casa"
   ]
  },
  {
   "cell_type": "markdown",
   "id": "b95004ac-c40b-41a9-ae17-cede39686738",
   "metadata": {},
   "source": [
    "## 3. Selecione os imóveis com área entre 60 e 100 metros quadrados, incluindo os limites"
   ]
  },
  {
   "cell_type": "code",
   "execution_count": 153,
   "id": "e74383e4-8684-46b7-b4d3-54e881b92a22",
   "metadata": {},
   "outputs": [],
   "source": [
    "imoveis_entre_60_100 = (dados[\"Area\"] >= 60) & (dados[\"Area\"] <= 100)"
   ]
  },
  {
   "cell_type": "code",
   "execution_count": 157,
   "id": "8033ecbb-c727-4776-bed8-a1ee1faffea4",
   "metadata": {},
   "outputs": [
    {
     "data": {
      "text/plain": [
       "8719"
      ]
     },
     "execution_count": 157,
     "metadata": {},
     "output_type": "execute_result"
    }
   ],
   "source": [
    "dados[imoveis_entre_60_100].shape[0]"
   ]
  },
  {
   "cell_type": "markdown",
   "id": "1be38b1b-b673-438b-800c-feccee0430e3",
   "metadata": {},
   "source": [
    "## 4. Selecione os imóveis que tenham pelo menos 4 quartos e aluguel menor que R$ 2.000,00."
   ]
  },
  {
   "cell_type": "code",
   "execution_count": 161,
   "id": "e2dfab99-c4c3-4779-9451-c0a7c32e8d1d",
   "metadata": {},
   "outputs": [],
   "source": [
    "imoveis = (dados[\"Quartos\"] >= 4) & (dados[\"Valor\"] < 2000)"
   ]
  },
  {
   "cell_type": "code",
   "execution_count": 162,
   "id": "c608e012-0a98-402b-a02c-5bded137a7e4",
   "metadata": {},
   "outputs": [
    {
     "data": {
      "text/plain": [
       "41"
      ]
     },
     "execution_count": 162,
     "metadata": {},
     "output_type": "execute_result"
    }
   ],
   "source": [
    "dados[imoveis].shape[0]"
   ]
  },
  {
   "cell_type": "code",
   "execution_count": null,
   "id": "89039a7a-7c63-406d-94a3-7c16d66ab09a",
   "metadata": {},
   "outputs": [],
   "source": []
  }
 ],
 "metadata": {
  "kernelspec": {
   "display_name": "Python 3 (ipykernel)",
   "language": "python",
   "name": "python3"
  },
  "language_info": {
   "codemirror_mode": {
    "name": "ipython",
    "version": 3
   },
   "file_extension": ".py",
   "mimetype": "text/x-python",
   "name": "python",
   "nbconvert_exporter": "python",
   "pygments_lexer": "ipython3",
   "version": "3.12.7"
  }
 },
 "nbformat": 4,
 "nbformat_minor": 5
}
