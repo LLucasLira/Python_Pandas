{
 "cells": [
  {
   "cell_type": "code",
   "execution_count": 1,
   "id": "91e18a4e-b8be-4d06-b88c-a2d3988dc5bc",
   "metadata": {},
   "outputs": [],
   "source": [
    "import pandas as pd"
   ]
  },
  {
   "cell_type": "markdown",
   "id": "d2979d90-9fb5-4349-a390-60f9bae6285e",
   "metadata": {},
   "source": [
    "## Series"
   ]
  },
  {
   "cell_type": "code",
   "execution_count": 2,
   "id": "985c5c78-1f7a-4245-8852-efcd154fb981",
   "metadata": {},
   "outputs": [],
   "source": [
    "data = [1,2,3,4,5,6,7,8,9]"
   ]
  },
  {
   "cell_type": "code",
   "execution_count": 3,
   "id": "36b25e4a-7f92-47cd-a9a0-981152699814",
   "metadata": {},
   "outputs": [],
   "source": [
    "s = pd.Series(data)"
   ]
  },
  {
   "cell_type": "code",
   "execution_count": 4,
   "id": "90bd57ce-2b5b-426d-a0c5-8e10efa7054c",
   "metadata": {},
   "outputs": [
    {
     "data": {
      "text/plain": [
       "0    1\n",
       "1    2\n",
       "2    3\n",
       "3    4\n",
       "4    5\n",
       "5    6\n",
       "6    7\n",
       "7    8\n",
       "8    9\n",
       "dtype: int64"
      ]
     },
     "execution_count": 4,
     "metadata": {},
     "output_type": "execute_result"
    }
   ],
   "source": [
    "s"
   ]
  },
  {
   "cell_type": "code",
   "execution_count": 5,
   "id": "433ba834-c638-4586-9bb6-5647541ca25e",
   "metadata": {},
   "outputs": [],
   "source": [
    "index = [ str(i) + \". Linha: \" for i in range(9)]"
   ]
  },
  {
   "cell_type": "code",
   "execution_count": 6,
   "id": "2e178a60-3638-4e9d-84dd-714668c68237",
   "metadata": {},
   "outputs": [
    {
     "data": {
      "text/plain": [
       "['0. Linha: ',\n",
       " '1. Linha: ',\n",
       " '2. Linha: ',\n",
       " '3. Linha: ',\n",
       " '4. Linha: ',\n",
       " '5. Linha: ',\n",
       " '6. Linha: ',\n",
       " '7. Linha: ',\n",
       " '8. Linha: ']"
      ]
     },
     "execution_count": 6,
     "metadata": {},
     "output_type": "execute_result"
    }
   ],
   "source": [
    "index"
   ]
  },
  {
   "cell_type": "code",
   "execution_count": 7,
   "id": "dcc949c2-e106-4776-b494-91fac1dc79af",
   "metadata": {},
   "outputs": [],
   "source": [
    "s = pd.Series(data = data, index = index)"
   ]
  },
  {
   "cell_type": "code",
   "execution_count": 8,
   "id": "dc8b27db-df8e-4c9d-b52d-ceedcf8a8097",
   "metadata": {},
   "outputs": [
    {
     "data": {
      "text/plain": [
       "0. Linha:     1\n",
       "1. Linha:     2\n",
       "2. Linha:     3\n",
       "3. Linha:     4\n",
       "4. Linha:     5\n",
       "5. Linha:     6\n",
       "6. Linha:     7\n",
       "7. Linha:     8\n",
       "8. Linha:     9\n",
       "dtype: int64"
      ]
     },
     "execution_count": 8,
     "metadata": {},
     "output_type": "execute_result"
    }
   ],
   "source": [
    "s"
   ]
  },
  {
   "cell_type": "code",
   "execution_count": 15,
   "id": "5ba28105-1d00-43ad-97b5-51853dccf509",
   "metadata": {},
   "outputs": [],
   "source": [
    "data = {\"Valor: \" + str(i) : i + 1 for i in range (9)}"
   ]
  },
  {
   "cell_type": "code",
   "execution_count": 16,
   "id": "a22f30ae-8ca5-4588-9e99-e770372b15bc",
   "metadata": {},
   "outputs": [
    {
     "data": {
      "text/plain": [
       "{'Valor: 0': 1,\n",
       " 'Valor: 1': 2,\n",
       " 'Valor: 2': 3,\n",
       " 'Valor: 3': 4,\n",
       " 'Valor: 4': 5,\n",
       " 'Valor: 5': 6,\n",
       " 'Valor: 6': 7,\n",
       " 'Valor: 7': 8,\n",
       " 'Valor: 8': 9}"
      ]
     },
     "execution_count": 16,
     "metadata": {},
     "output_type": "execute_result"
    }
   ],
   "source": [
    "data"
   ]
  },
  {
   "cell_type": "code",
   "execution_count": 25,
   "id": "04b18701-22b2-477d-afac-13656f2ea6b6",
   "metadata": {},
   "outputs": [],
   "source": [
    "s = pd.Series(data)"
   ]
  },
  {
   "cell_type": "code",
   "execution_count": 26,
   "id": "c90dc686-3dcb-4a2e-b008-9ae281392a78",
   "metadata": {},
   "outputs": [
    {
     "data": {
      "text/plain": [
       "Valor: 0    1\n",
       "Valor: 1    2\n",
       "Valor: 2    3\n",
       "Valor: 3    4\n",
       "Valor: 4    5\n",
       "Valor: 5    6\n",
       "Valor: 6    7\n",
       "Valor: 7    8\n",
       "Valor: 8    9\n",
       "dtype: int64"
      ]
     },
     "execution_count": 26,
     "metadata": {},
     "output_type": "execute_result"
    }
   ],
   "source": [
    "s"
   ]
  },
  {
   "cell_type": "code",
   "execution_count": 27,
   "id": "6d87acbc-b093-482c-a95c-ac6209487fc3",
   "metadata": {},
   "outputs": [],
   "source": [
    "s1 = s + 2"
   ]
  },
  {
   "cell_type": "code",
   "execution_count": 28,
   "id": "178150ca-62fe-4274-98f0-23796e2ec21e",
   "metadata": {},
   "outputs": [
    {
     "data": {
      "text/plain": [
       "Valor: 0     3\n",
       "Valor: 1     4\n",
       "Valor: 2     5\n",
       "Valor: 3     6\n",
       "Valor: 4     7\n",
       "Valor: 5     8\n",
       "Valor: 6     9\n",
       "Valor: 7    10\n",
       "Valor: 8    11\n",
       "dtype: int64"
      ]
     },
     "execution_count": 28,
     "metadata": {},
     "output_type": "execute_result"
    }
   ],
   "source": [
    "s1"
   ]
  },
  {
   "cell_type": "markdown",
   "id": "ac02c8e6-a3dd-43c3-aee9-cc6e754357e7",
   "metadata": {},
   "source": [
    "## DataFrame"
   ]
  },
  {
   "cell_type": "code",
   "execution_count": 30,
   "id": "3c1882c4-9f0c-4f9d-9055-6164937a6b5d",
   "metadata": {},
   "outputs": [],
   "source": [
    "data = [[1,2,3],[4,5,6],[7,8,9]]"
   ]
  },
  {
   "cell_type": "code",
   "execution_count": 31,
   "id": "1f0518cd-1bb2-4c07-be06-efd924aee774",
   "metadata": {},
   "outputs": [
    {
     "data": {
      "text/plain": [
       "[[1, 2, 3], [4, 5, 6], [7, 8, 9]]"
      ]
     },
     "execution_count": 31,
     "metadata": {},
     "output_type": "execute_result"
    }
   ],
   "source": [
    "data"
   ]
  },
  {
   "cell_type": "code",
   "execution_count": 32,
   "id": "8b1ff0ae-80d8-4acc-8ace-91f0e09fbe9e",
   "metadata": {},
   "outputs": [],
   "source": [
    "df1 = pd.DataFrame(data)"
   ]
  },
  {
   "cell_type": "code",
   "execution_count": 33,
   "id": "bbe0e21e-2a3c-4cc7-bf5c-45c9d64b265d",
   "metadata": {},
   "outputs": [
    {
     "data": {
      "text/html": [
       "<div>\n",
       "<style scoped>\n",
       "    .dataframe tbody tr th:only-of-type {\n",
       "        vertical-align: middle;\n",
       "    }\n",
       "\n",
       "    .dataframe tbody tr th {\n",
       "        vertical-align: top;\n",
       "    }\n",
       "\n",
       "    .dataframe thead th {\n",
       "        text-align: right;\n",
       "    }\n",
       "</style>\n",
       "<table border=\"1\" class=\"dataframe\">\n",
       "  <thead>\n",
       "    <tr style=\"text-align: right;\">\n",
       "      <th></th>\n",
       "      <th>0</th>\n",
       "      <th>1</th>\n",
       "      <th>2</th>\n",
       "    </tr>\n",
       "  </thead>\n",
       "  <tbody>\n",
       "    <tr>\n",
       "      <th>0</th>\n",
       "      <td>1</td>\n",
       "      <td>2</td>\n",
       "      <td>3</td>\n",
       "    </tr>\n",
       "    <tr>\n",
       "      <th>1</th>\n",
       "      <td>4</td>\n",
       "      <td>5</td>\n",
       "      <td>6</td>\n",
       "    </tr>\n",
       "    <tr>\n",
       "      <th>2</th>\n",
       "      <td>7</td>\n",
       "      <td>8</td>\n",
       "      <td>9</td>\n",
       "    </tr>\n",
       "  </tbody>\n",
       "</table>\n",
       "</div>"
      ],
      "text/plain": [
       "   0  1  2\n",
       "0  1  2  3\n",
       "1  4  5  6\n",
       "2  7  8  9"
      ]
     },
     "execution_count": 33,
     "metadata": {},
     "output_type": "execute_result"
    }
   ],
   "source": [
    "df1"
   ]
  },
  {
   "cell_type": "code",
   "execution_count": 45,
   "id": "8b1983ea-89fd-435a-bcf1-e200eb45430d",
   "metadata": {},
   "outputs": [],
   "source": [
    "index = [\"Linha \" + str(i) + (\": \") for i in range(3)]"
   ]
  },
  {
   "cell_type": "code",
   "execution_count": 46,
   "id": "5af6c371-d79d-4ea5-9fdd-b4082847706f",
   "metadata": {},
   "outputs": [
    {
     "data": {
      "text/plain": [
       "['Linha 0: ', 'Linha 1: ', 'Linha 2: ']"
      ]
     },
     "execution_count": 46,
     "metadata": {},
     "output_type": "execute_result"
    }
   ],
   "source": [
    "index"
   ]
  },
  {
   "cell_type": "code",
   "execution_count": 47,
   "id": "cd0c12cc-01a8-4362-bf11-5b2424862f80",
   "metadata": {},
   "outputs": [],
   "source": [
    "df1 = pd.DataFrame(data = data, index = index)"
   ]
  },
  {
   "cell_type": "code",
   "execution_count": 48,
   "id": "898fcd7d-bd30-433a-a868-d83a3af41f16",
   "metadata": {},
   "outputs": [
    {
     "data": {
      "text/html": [
       "<div>\n",
       "<style scoped>\n",
       "    .dataframe tbody tr th:only-of-type {\n",
       "        vertical-align: middle;\n",
       "    }\n",
       "\n",
       "    .dataframe tbody tr th {\n",
       "        vertical-align: top;\n",
       "    }\n",
       "\n",
       "    .dataframe thead th {\n",
       "        text-align: right;\n",
       "    }\n",
       "</style>\n",
       "<table border=\"1\" class=\"dataframe\">\n",
       "  <thead>\n",
       "    <tr style=\"text-align: right;\">\n",
       "      <th></th>\n",
       "      <th>0</th>\n",
       "      <th>1</th>\n",
       "      <th>2</th>\n",
       "    </tr>\n",
       "  </thead>\n",
       "  <tbody>\n",
       "    <tr>\n",
       "      <th>Linha 0:</th>\n",
       "      <td>1</td>\n",
       "      <td>2</td>\n",
       "      <td>3</td>\n",
       "    </tr>\n",
       "    <tr>\n",
       "      <th>Linha 1:</th>\n",
       "      <td>4</td>\n",
       "      <td>5</td>\n",
       "      <td>6</td>\n",
       "    </tr>\n",
       "    <tr>\n",
       "      <th>Linha 2:</th>\n",
       "      <td>7</td>\n",
       "      <td>8</td>\n",
       "      <td>9</td>\n",
       "    </tr>\n",
       "  </tbody>\n",
       "</table>\n",
       "</div>"
      ],
      "text/plain": [
       "           0  1  2\n",
       "Linha 0:   1  2  3\n",
       "Linha 1:   4  5  6\n",
       "Linha 2:   7  8  9"
      ]
     },
     "execution_count": 48,
     "metadata": {},
     "output_type": "execute_result"
    }
   ],
   "source": [
    "df1"
   ]
  },
  {
   "cell_type": "code",
   "execution_count": 53,
   "id": "5dea1ff3-f426-4b20-a9f9-59a9815e59f3",
   "metadata": {},
   "outputs": [],
   "source": [
    "columns = [\"Coluna \" + str(i) + \": \" for i in range(3)]"
   ]
  },
  {
   "cell_type": "code",
   "execution_count": 54,
   "id": "fd203feb-c3ee-49b4-ace6-dda85f2aba83",
   "metadata": {},
   "outputs": [
    {
     "data": {
      "text/plain": [
       "['Coluna 0: ', 'Coluna 1: ', 'Coluna 2: ']"
      ]
     },
     "execution_count": 54,
     "metadata": {},
     "output_type": "execute_result"
    }
   ],
   "source": [
    "columns"
   ]
  },
  {
   "cell_type": "code",
   "execution_count": 56,
   "id": "8685f31f-9886-4edd-8477-e4825ad632d7",
   "metadata": {},
   "outputs": [],
   "source": [
    "df1 = pd.DataFrame(data = data, index = index, columns = columns)"
   ]
  },
  {
   "cell_type": "code",
   "execution_count": 57,
   "id": "55e06150-6c2a-4344-809f-10a8eac6d14b",
   "metadata": {},
   "outputs": [
    {
     "data": {
      "text/html": [
       "<div>\n",
       "<style scoped>\n",
       "    .dataframe tbody tr th:only-of-type {\n",
       "        vertical-align: middle;\n",
       "    }\n",
       "\n",
       "    .dataframe tbody tr th {\n",
       "        vertical-align: top;\n",
       "    }\n",
       "\n",
       "    .dataframe thead th {\n",
       "        text-align: right;\n",
       "    }\n",
       "</style>\n",
       "<table border=\"1\" class=\"dataframe\">\n",
       "  <thead>\n",
       "    <tr style=\"text-align: right;\">\n",
       "      <th></th>\n",
       "      <th>Coluna 0:</th>\n",
       "      <th>Coluna 1:</th>\n",
       "      <th>Coluna 2:</th>\n",
       "    </tr>\n",
       "  </thead>\n",
       "  <tbody>\n",
       "    <tr>\n",
       "      <th>Linha 0:</th>\n",
       "      <td>1</td>\n",
       "      <td>2</td>\n",
       "      <td>3</td>\n",
       "    </tr>\n",
       "    <tr>\n",
       "      <th>Linha 1:</th>\n",
       "      <td>4</td>\n",
       "      <td>5</td>\n",
       "      <td>6</td>\n",
       "    </tr>\n",
       "    <tr>\n",
       "      <th>Linha 2:</th>\n",
       "      <td>7</td>\n",
       "      <td>8</td>\n",
       "      <td>9</td>\n",
       "    </tr>\n",
       "  </tbody>\n",
       "</table>\n",
       "</div>"
      ],
      "text/plain": [
       "           Coluna 0:   Coluna 1:   Coluna 2: \n",
       "Linha 0:            1           2           3\n",
       "Linha 1:            4           5           6\n",
       "Linha 2:            7           8           9"
      ]
     },
     "execution_count": 57,
     "metadata": {},
     "output_type": "execute_result"
    }
   ],
   "source": [
    "df1"
   ]
  },
  {
   "cell_type": "code",
   "execution_count": null,
   "id": "09763451-5385-476a-8602-084034a7f25a",
   "metadata": {},
   "outputs": [],
   "source": []
  }
 ],
 "metadata": {
  "kernelspec": {
   "display_name": "Python 3 (ipykernel)",
   "language": "python",
   "name": "python3"
  },
  "language_info": {
   "codemirror_mode": {
    "name": "ipython",
    "version": 3
   },
   "file_extension": ".py",
   "mimetype": "text/x-python",
   "name": "python",
   "nbconvert_exporter": "python",
   "pygments_lexer": "ipython3",
   "version": "3.12.7"
  }
 },
 "nbformat": 4,
 "nbformat_minor": 5
}
